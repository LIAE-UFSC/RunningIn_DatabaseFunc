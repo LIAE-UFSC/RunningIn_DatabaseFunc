{
 "cells": [
  {
   "cell_type": "code",
   "execution_count": null,
   "metadata": {},
   "outputs": [],
   "source": [
    "# Ler arquivo\n",
    "\n",
    "import h5py\n",
    "with h5py.File('D:/Dados - Thaler/Documentos/Amaciamento/Ensaios Brutos/datasetModelA.hdf5', 'r') as f:\n",
    "    # Get units from model\n",
    "    model = f[list(f.keys())[0]]\n",
    "\n",
    "    # Initialize min and max dictionaries\n",
    "    minValues = {}\n",
    "    maxValues = {}\n",
    "\n",
    "    for unit in [model[un] for un in model.keys()]:\n",
    "        for test in [unit[tst] for tst in unit.keys()]:\n",
    "            for measurement in [test[msm] for msm in test.keys()]:\n",
    "                for attr, value in measurement.attrs.items():\n",
    "                    # Check min and max for every attribute\n",
    "                    if attr in minValues:\n",
    "                        minValues[attr] = min(minValues[attr],value)\n",
    "                        maxValues[attr] = max(maxValues[attr],value)\n",
    "                    else:\n",
    "                        minValues[attr] = value\n",
    "                        maxValues[attr] = value\n",
    "                \n",
    "                for dataBase in [measurement[db] for db in measurement.keys()]:\n",
    "                    # Check min and max for every dataBase\n",
    "                    if str(dataBase) in minValues:\n",
    "                        minValues[str(dataBase)] = min(minValues[attr],min(dataBase[()]))\n",
    "                        maxValues[str(dataBase)] = max(maxValues[attr],max(dataBase[()]))\n",
    "                    else:\n",
    "                        minValues[str(dataBase)] = min(dataBase[()])\n",
    "                        maxValues[str(dataBase)] = max(dataBase[()])\n",
    "\n",
    "                a = 1\n"
   ]
  },
  {
   "cell_type": "code",
   "execution_count": 27,
   "metadata": {},
   "outputs": [
    {
     "name": "stdout",
     "output_type": "stream",
     "text": [
      "voltageRMS_NIDaq\n"
     ]
    }
   ],
   "source": [
    "def nameVar(headerName:str) -> str:\n",
    "\n",
    "        varNames = [[\"time\",\"Tempo [s]\"],\n",
    "                [\"temperatureSuction\",\"Temperatura Sucção [ºC]\"],\n",
    "                [\"temperatureCompressorBody\",\"Temperatura Corpo [ºC]\"],\n",
    "                [\"temperatureBuffer\",\"Temperatura Reservatório [ºC]\"],\n",
    "                [\"temperatureDischarge\",\"Temperatura Descarga [ºC]\"],\n",
    "                [\"pressureSuction_Analog\",\"Pressão Sucção [bar]\"],\n",
    "                [\"pressureDischarge\",\"Pressão Descarga [bar]\"],\n",
    "                [\"pressureBuffer\",\"Pressão Intermediária [bar]\"],\n",
    "                [\"valveDischargePositionSetpoint\",\"Setpoint da Abertura da Válvula [Passos]\"],\n",
    "                [\"valveDischargeOpening\",\"Abertura da válvula [Passos]\"],\n",
    "                [\"valveDischargeLimit\",\"Limite da válvula [Passos]\"],\n",
    "                [\"valveSuctionVoltage\",\"Tensão da válvula de sucção [V]\"],\n",
    "                [\"currentRMS\",\"Corrente RMS [A]\"],\n",
    "                [\"compressorOn\",\"Compressor Ativado\"],\n",
    "                [\"vibrationRMSLateral\",\"Aceleração RMS Inferior Corpo [g]\"],\n",
    "                [\"vibrationRMSRig\",\"Aceleração RMS Bancada [g]\"],\n",
    "                [\"vibrationRMSLongitudinal\",\"Aceleração RMS Superior Corpo [g]\"],\n",
    "                [\"massFlow\",\"Vazão Mássica [kg/h]\"],\n",
    "                [\"resistorDischargeDC\",\"Duty Cycle Descarga [%]\"],\n",
    "                [\"pressureSuction_GEPreValve\",\"Pressão Sucção Válvula (DPS) [bar]\"],\n",
    "                [\"pressureSuction_GEPostValve\",\"Pressão Sucção Compressor (DPS) [bar]\"],\n",
    "                [\"resistorDischargeDC\",\"Duty Cycle [%]\"],\n",
    "                [\"temperatureCoil1\",\"Temperatura Bobina 1 [ºC]\"],\n",
    "                [\"temperatureCoil2\",\"Temperatura Bobina 2 [ºC]\"],\n",
    "                [\"currentRMS_WT130\",\"Corrente Yokogawa [A]\"],\n",
    "                [\"voltageRMS_WT130\",\"Tensão Yokogawa [V]\"],\n",
    "                [\"PowerRMS_WT130\",\"Potência Yokogawa [W]\"],\n",
    "                [\"currentRMS_TMCS\",\"Corrente TMCS [A]\"],\n",
    "                [\"voltageRMS_NI_DAQ\",\"Tensão DAQ [V]\"],\n",
    "                [\"temperatureRoom\",\"Temperatura Ambiente [ºC]\"]]\n",
    "    \n",
    "        index = [x[1] for x in varNames].index(headerName)\n",
    "        return varNames[index][0]\n"
   ]
  }
 ],
 "metadata": {
  "kernelspec": {
   "display_name": "base",
   "language": "python",
   "name": "python3"
  },
  "language_info": {
   "codemirror_mode": {
    "name": "ipython",
    "version": 3
   },
   "file_extension": ".py",
   "mimetype": "text/x-python",
   "name": "python",
   "nbconvert_exporter": "python",
   "pygments_lexer": "ipython3",
   "version": "3.9.12"
  },
  "orig_nbformat": 4
 },
 "nbformat": 4,
 "nbformat_minor": 2
}
