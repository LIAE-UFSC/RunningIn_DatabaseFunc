{
 "cells": [
  {
   "cell_type": "code",
   "execution_count": 1,
   "metadata": {},
   "outputs": [],
   "source": [
    "# Utils example\n",
    "\n",
    "import pyRInDB as ridb\n",
    "\n",
    "pathIn = r\"\\\\LIAE-SANTINHO\\Backups\\Amaciamento_DatabaseMIMICRI\\ModelA.hdf5\"\n",
    "# pathIn = r\"\\\\LIAE-SANTINHO\\Backups\\Amaciamento_DatabaseFull\\datasetModelA.hdf5\"\n",
    "\n",
    "file =  ridb.RunIn_File(pathIn)\n"
   ]
  },
  {
   "cell_type": "code",
   "execution_count": 2,
   "metadata": {},
   "outputs": [],
   "source": [
    "unit = file[0]\n",
    "test = unit[0]"
   ]
  },
  {
   "cell_type": "code",
   "execution_count": null,
   "metadata": {},
   "outputs": [],
   "source": [
    "test.to_dict(vars = [],processesdVars=[\n",
    "    {\"var\": \"current\", \n",
    "     \"process\": [\"RMS\",\"Kurtosis\",\"Variance\",\"Skewness\",\"Peak\",\"Crest\"]},\n",
    "])"
   ]
  }
 ],
 "metadata": {
  "kernelspec": {
   "display_name": "base",
   "language": "python",
   "name": "python3"
  },
  "language_info": {
   "codemirror_mode": {
    "name": "ipython",
    "version": 3
   },
   "file_extension": ".py",
   "mimetype": "text/x-python",
   "name": "python",
   "nbconvert_exporter": "python",
   "pygments_lexer": "ipython3",
   "version": "3.12.3"
  },
  "orig_nbformat": 4
 },
 "nbformat": 4,
 "nbformat_minor": 2
}
