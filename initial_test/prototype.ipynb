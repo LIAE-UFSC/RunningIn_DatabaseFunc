{
 "cells": [
  {
   "cell_type": "code",
   "execution_count": 5,
   "metadata": {},
   "outputs": [
    {
     "name": "stdout",
     "output_type": "stream",
     "text": [
      "Empty DataFrame\n",
      "Columns: []\n",
      "Index: []\n"
     ]
    }
   ],
   "source": [
    "# Utils example\n",
    "\n",
    "from source.runInDB_utils import *\n",
    "\n",
    "pathIn = r\"\\\\LIAE-SANTINHO\\Backups\\Amaciamento_DatabaseMIMICRI\\ModelA.hdf5\"\n",
    "# pathIn = r\"\\\\LIAE-SANTINHO\\Backups\\Amaciamento_DatabaseFull\\datasetModelA.hdf5\"\n",
    "\n",
    "file =  RunIn_File(pathIn)\n",
    "tests = {\"C1\": ['2022_10_06', '2022_10_10', '2022_10_21'],\n",
    "            \"C2\": ['2023_02_13']\n",
    "        }\n",
    "\n",
    "dictt = file.getMeasurements(indexes=range(40))\n",
    "\n",
    "print(pd.DataFrame(dictt))\n",
    "\n",
    "\n"
   ]
  }
 ],
 "metadata": {
  "kernelspec": {
   "display_name": "base",
   "language": "python",
   "name": "python3"
  },
  "language_info": {
   "codemirror_mode": {
    "name": "ipython",
    "version": 3
   },
   "file_extension": ".py",
   "mimetype": "text/x-python",
   "name": "python",
   "nbconvert_exporter": "python",
   "pygments_lexer": "ipython3",
   "version": "3.9.12"
  },
  "orig_nbformat": 4
 },
 "nbformat": 4,
 "nbformat_minor": 2
}
